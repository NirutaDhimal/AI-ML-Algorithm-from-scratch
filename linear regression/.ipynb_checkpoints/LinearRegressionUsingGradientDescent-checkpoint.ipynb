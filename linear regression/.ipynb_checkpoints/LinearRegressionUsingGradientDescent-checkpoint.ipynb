{
 "cells": [
  {
   "cell_type": "markdown",
   "id": "3255da01",
   "metadata": {},
   "source": [
    "## Importing the libraries"
   ]
  },
  {
   "cell_type": "code",
   "execution_count": 1,
   "id": "c64722df",
   "metadata": {},
   "outputs": [],
   "source": [
    "import numpy as np\n",
    "import pandas as pd\n",
    "import matplotlib.pyplot as plt"
   ]
  },
  {
   "cell_type": "markdown",
   "id": "48658f05",
   "metadata": {},
   "source": [
    "## Importing the dataset"
   ]
  },
  {
   "cell_type": "code",
   "execution_count": 2,
   "id": "90d70be5",
   "metadata": {},
   "outputs": [
    {
     "data": {
      "text/html": [
       "<div>\n",
       "<style scoped>\n",
       "    .dataframe tbody tr th:only-of-type {\n",
       "        vertical-align: middle;\n",
       "    }\n",
       "\n",
       "    .dataframe tbody tr th {\n",
       "        vertical-align: top;\n",
       "    }\n",
       "\n",
       "    .dataframe thead th {\n",
       "        text-align: right;\n",
       "    }\n",
       "</style>\n",
       "<table border=\"1\" class=\"dataframe\">\n",
       "  <thead>\n",
       "    <tr style=\"text-align: right;\">\n",
       "      <th></th>\n",
       "      <th>YearsExperience</th>\n",
       "      <th>Salary</th>\n",
       "    </tr>\n",
       "  </thead>\n",
       "  <tbody>\n",
       "    <tr>\n",
       "      <th>0</th>\n",
       "      <td>1.1</td>\n",
       "      <td>39343.0</td>\n",
       "    </tr>\n",
       "    <tr>\n",
       "      <th>1</th>\n",
       "      <td>1.3</td>\n",
       "      <td>46205.0</td>\n",
       "    </tr>\n",
       "    <tr>\n",
       "      <th>2</th>\n",
       "      <td>1.5</td>\n",
       "      <td>37731.0</td>\n",
       "    </tr>\n",
       "    <tr>\n",
       "      <th>3</th>\n",
       "      <td>2.0</td>\n",
       "      <td>43525.0</td>\n",
       "    </tr>\n",
       "    <tr>\n",
       "      <th>4</th>\n",
       "      <td>2.2</td>\n",
       "      <td>39891.0</td>\n",
       "    </tr>\n",
       "  </tbody>\n",
       "</table>\n",
       "</div>"
      ],
      "text/plain": [
       "   YearsExperience   Salary\n",
       "0              1.1  39343.0\n",
       "1              1.3  46205.0\n",
       "2              1.5  37731.0\n",
       "3              2.0  43525.0\n",
       "4              2.2  39891.0"
      ]
     },
     "execution_count": 2,
     "metadata": {},
     "output_type": "execute_result"
    }
   ],
   "source": [
    "dataset = pd.read_csv(\"Salary_Data.csv\")\n",
    "dataset.head()"
   ]
  },
  {
   "cell_type": "code",
   "execution_count": 3,
   "id": "7c57306e",
   "metadata": {},
   "outputs": [],
   "source": [
    "X = dataset.iloc[:, :-1].values\n",
    "y = dataset.iloc[:, -1].values"
   ]
  },
  {
   "cell_type": "markdown",
   "id": "cc402216",
   "metadata": {},
   "source": [
    "## Scatter Plot"
   ]
  },
  {
   "cell_type": "code",
   "execution_count": 4,
   "id": "81dcab3b",
   "metadata": {},
   "outputs": [
    {
     "data": {
      "image/png": "[encoded data removed]",
      "text/plain": [
       "<Figure size 432x288 with 1 Axes>"
      ]
     },
     "metadata": {
      "needs_background": "light"
     },
     "output_type": "display_data"
    }
   ],
   "source": [
    "plt.scatter(X,y, color = 'blue')\n",
    "plt.title('Scatter Plot of Salary VS Years of experience ')\n",
    "plt.xlabel('Years of Experience')\n",
    "plt.ylabel('Salary')\n",
    "plt.show()"
   ]
  },
  {
   "cell_type": "code",
   "execution_count": 5,
   "id": "7e194934",
   "metadata": {},
   "outputs": [],
   "source": [
    "y = y.reshape(len(y),1)"
   ]
  },
  {
   "cell_type": "markdown",
   "id": "5d77f529",
   "metadata": {},
   "source": [
    "## Splitting the dataset into training and test set"
   ]
  },
  {
   "cell_type": "code",
   "execution_count": 6,
   "id": "20431915",
   "metadata": {},
   "outputs": [],
   "source": [
    "from sklearn.model_selection import train_test_split\n",
    "X_train, X_test, y_train, y_test = train_test_split(X, y, test_size = 0.2, random_state = 42)"
   ]
  },
  {
   "cell_type": "code",
   "execution_count": 7,
   "id": "80cdd1bc",
   "metadata": {},
   "outputs": [
    {
     "name": "stdout",
     "output_type": "stream",
     "text": [
      "[[10.3]\n",
      " [ 8.7]\n",
      " [ 4. ]\n",
      " [ 1.1]\n",
      " [ 2.2]\n",
      " [ 5.1]\n",
      " [ 2.9]\n",
      " [ 4.1]\n",
      " [ 4. ]\n",
      " [ 7.9]\n",
      " [ 1.3]\n",
      " [ 1.5]\n",
      " [ 9. ]\n",
      " [ 2. ]\n",
      " [ 7.1]\n",
      " [ 9.5]\n",
      " [ 5.9]\n",
      " [10.5]\n",
      " [ 6.8]\n",
      " [ 3.2]\n",
      " [ 3.9]\n",
      " [ 4.5]\n",
      " [ 6. ]\n",
      " [ 3. ]]\n"
     ]
    }
   ],
   "source": [
    "print(X_train)"
   ]
  },
  {
   "cell_type": "code",
   "execution_count": 8,
   "id": "84d371f4",
   "metadata": {},
   "outputs": [
    {
     "name": "stdout",
     "output_type": "stream",
     "text": [
      "[[9.6]\n",
      " [4.9]\n",
      " [8.2]\n",
      " [5.3]\n",
      " [3.2]\n",
      " [3.7]]\n"
     ]
    }
   ],
   "source": [
    "print(X_test)"
   ]
  },
  {
   "cell_type": "code",
   "execution_count": 9,
   "id": "c797e7da",
   "metadata": {},
   "outputs": [
    {
     "name": "stdout",
     "output_type": "stream",
     "text": [
      "[[122391.]\n",
      " [109431.]\n",
      " [ 56957.]\n",
      " [ 39343.]\n",
      " [ 39891.]\n",
      " [ 66029.]\n",
      " [ 56642.]\n",
      " [ 57081.]\n",
      " [ 55794.]\n",
      " [101302.]\n",
      " [ 46205.]\n",
      " [ 37731.]\n",
      " [105582.]\n",
      " [ 43525.]\n",
      " [ 98273.]\n",
      " [116969.]\n",
      " [ 81363.]\n",
      " [121872.]\n",
      " [ 91738.]\n",
      " [ 54445.]\n",
      " [ 63218.]\n",
      " [ 61111.]\n",
      " [ 93940.]\n",
      " [ 60150.]]\n"
     ]
    }
   ],
   "source": [
    "print(y_train)"
   ]
  },
  {
   "cell_type": "code",
   "execution_count": 10,
   "id": "ecf823e8",
   "metadata": {},
   "outputs": [
    {
     "name": "stdout",
     "output_type": "stream",
     "text": [
      "[[112635.]\n",
      " [ 67938.]\n",
      " [113812.]\n",
      " [ 83088.]\n",
      " [ 64445.]\n",
      " [ 57189.]]\n"
     ]
    }
   ],
   "source": [
    "print(y_test)"
   ]
  },
  {
   "cell_type": "markdown",
   "id": "fefe825e",
   "metadata": {},
   "source": [
    "## Feature Scaling"
   ]
  },
  {
   "cell_type": "code",
   "execution_count": 11,
   "id": "3084f98f",
   "metadata": {},
   "outputs": [],
   "source": [
    "from sklearn.preprocessing import StandardScaler\n",
    "sc_X = StandardScaler()\n",
    "sc_y = StandardScaler()\n",
    "X_train = sc_X.fit_transform(X_train)\n",
    "y_train = sc_y.fit_transform(y_train)\n",
    "X_test = sc_X.transform(X_test)\n",
    "y_test = sc_y.transform(y_test)"
   ]
  },
  {
   "cell_type": "code",
   "execution_count": 12,
   "id": "c0a2c85c",
   "metadata": {},
   "outputs": [
    {
     "name": "stdout",
     "output_type": "stream",
     "text": [
      "[[ 1.77445774]\n",
      " [ 1.21912622]\n",
      " [-0.41216011]\n",
      " [-1.41869849]\n",
      " [-1.03690807]\n",
      " [-0.03036969]\n",
      " [-0.79395053]\n",
      " [-0.37745189]\n",
      " [-0.41216011]\n",
      " [ 0.94146047]\n",
      " [-1.34928205]\n",
      " [-1.27986561]\n",
      " [ 1.32325088]\n",
      " [-1.10632451]\n",
      " [ 0.66379471]\n",
      " [ 1.49679198]\n",
      " [ 0.24729607]\n",
      " [ 1.84387418]\n",
      " [ 0.55967005]\n",
      " [-0.68982587]\n",
      " [-0.44686833]\n",
      " [-0.23861901]\n",
      " [ 0.28200429]\n",
      " [-0.75924231]]\n"
     ]
    }
   ],
   "source": [
    "print(X_train)"
   ]
  },
  {
   "cell_type": "code",
   "execution_count": 13,
   "id": "9b6b047f",
   "metadata": {},
   "outputs": [
    {
     "name": "stdout",
     "output_type": "stream",
     "text": [
      "[[ 1.74286179]\n",
      " [ 1.27408   ]\n",
      " [-0.62397985]\n",
      " [-1.26110349]\n",
      " [-1.24128155]\n",
      " [-0.2958326 ]\n",
      " [-0.63537385]\n",
      " [-0.61949459]\n",
      " [-0.66604723]\n",
      " [ 0.98004241]\n",
      " [-1.01289511]\n",
      " [-1.31941185]\n",
      " [ 1.13485615]\n",
      " [-1.10983456]\n",
      " [ 0.87047913]\n",
      " [ 1.54674027]\n",
      " [ 0.25882018]\n",
      " [ 1.72408881]\n",
      " [ 0.63409881]\n",
      " [-0.71484249]\n",
      " [-0.3975105 ]\n",
      " [-0.47372371]\n",
      " [ 0.71374831]\n",
      " [-0.50848446]]\n"
     ]
    }
   ],
   "source": [
    "print(y_train)"
   ]
  },
  {
   "cell_type": "code",
   "execution_count": 14,
   "id": "4c73c364",
   "metadata": {},
   "outputs": [
    {
     "name": "stdout",
     "output_type": "stream",
     "text": [
      "[[ 1.5315002 ]\n",
      " [-0.09978613]\n",
      " [ 1.04558513]\n",
      " [ 0.03904675]\n",
      " [-0.68982587]\n",
      " [-0.51628477]]\n"
     ]
    }
   ],
   "source": [
    "print(X_test)"
   ]
  },
  {
   "cell_type": "code",
   "execution_count": 15,
   "id": "26d9103e",
   "metadata": {},
   "outputs": [
    {
     "name": "stdout",
     "output_type": "stream",
     "text": [
      "[[ 1.38997327]\n",
      " [-0.22678133]\n",
      " [ 1.43254705]\n",
      " [ 0.3212159 ]\n",
      " [-0.35312815]\n",
      " [-0.61558808]]\n"
     ]
    }
   ],
   "source": [
    "print(y_test)"
   ]
  },
  {
   "cell_type": "markdown",
   "id": "5fbe032e",
   "metadata": {},
   "source": [
    "## Implementing Linear Regression using Gradient Descent From Scratch"
   ]
  },
  {
   "cell_type": "code",
   "execution_count": 16,
   "id": "8ee68008",
   "metadata": {
    "scrolled": true
   },
   "outputs": [
    {
     "name": "stdout",
     "output_type": "stream",
     "text": [
      "0.9712071598049453 -7.380207556195573e-18\n"
     ]
    }
   ],
   "source": [
    "#Initializing m and c as zero\n",
    "m = 0\n",
    "c = 0\n",
    "#let learning rate equal to 0.0001 and use hit and trial\n",
    "L = 0.00015\n",
    "epochs = 15000\n",
    "\n",
    "n = len(X_train)\n",
    "\n",
    "for i in range(epochs): \n",
    "    y_predt = m * X_train + c  # The current predicted value of Y\n",
    "    dm = (-2/n) * sum(sum(X_train * (y_train - y_predt)))  # Derivative wrt m\n",
    "    dc = (-2/n) * sum(sum(y_train - y_predt))  # Derivative wrt c\n",
    "    m = m - L * dm  # Update m\n",
    "    c = c - L * dc  # Update c\n",
    "    \n",
    "print (m, c)"
   ]
  },
  {
   "cell_type": "markdown",
   "id": "93f04ba2",
   "metadata": {},
   "source": [
    "## Scatter Plot for training dataset using Gradient Descent"
   ]
  },
  {
   "cell_type": "code",
   "execution_count": 23,
   "id": "f470cbf0",
   "metadata": {},
   "outputs": [
    {
     "data": {
      "image/png": "[encoded data removed]",
      "text/plain": [
       "<Figure size 432x288 with 1 Axes>"
      ]
     },
     "metadata": {
      "needs_background": "light"
     },
     "output_type": "display_data"
    }
   ],
   "source": [
    "plt.scatter(sc_X.inverse_transform(X_train), sc_y.inverse_transform(y_train), color = 'blue')\n",
    "plt.plot(sc_X.inverse_transform(X_train), sc_y.inverse_transform(m * X_train + c), color = 'red')\n",
    "plt.title('Salary Vs Experience (Training Dataset) Using Gradient Descent')\n",
    "plt.xlabel('Experience')\n",
    "plt.ylabel('Salary')\n",
    "plt.show()"
   ]
  },
  {
   "cell_type": "markdown",
   "id": "0aa60cfb",
   "metadata": {},
   "source": [
    "## Testing the model"
   ]
  },
  {
   "cell_type": "code",
   "execution_count": 18,
   "id": "23ba0400",
   "metadata": {},
   "outputs": [],
   "source": [
    "y_pred = sc_y.inverse_transform(m * X_test + c)\n"
   ]
  },
  {
   "cell_type": "code",
   "execution_count": 25,
   "id": "d0c41f95",
   "metadata": {},
   "outputs": [
    {
     "data": {
      "image/png": "[encoded data removed]",
      "text/plain": [
       "<Figure size 432x288 with 1 Axes>"
      ]
     },
     "metadata": {
      "needs_background": "light"
     },
     "output_type": "display_data"
    }
   ],
   "source": [
    "plt.scatter(sc_X.inverse_transform(X_test), sc_y.inverse_transform(y_test), color = 'blue')\n",
    "plt.plot(sc_X.inverse_transform(X_test), y_pred, color = 'red')\n",
    "plt.title('Salary Vs Experience (Testing Dataset) using Gradient Descent')\n",
    "plt.xlabel('Experience')\n",
    "plt.ylabel('Salary')\n",
    "plt.show()"
   ]
  },
  {
   "cell_type": "markdown",
   "id": "8951524c",
   "metadata": {},
   "source": [
    "## Implementing Linear Regression Using Sklearn library"
   ]
  },
  {
   "cell_type": "code",
   "execution_count": 21,
   "id": "230c1626",
   "metadata": {},
   "outputs": [
    {
     "data": {
      "text/plain": [
       "LinearRegression()"
      ]
     },
     "execution_count": 21,
     "metadata": {},
     "output_type": "execute_result"
    }
   ],
   "source": [
    "from sklearn.linear_model import LinearRegression\n",
    "regressor = LinearRegression()\n",
    "regressor.fit(X_train, y_train)"
   ]
  },
  {
   "cell_type": "code",
   "execution_count": 22,
   "id": "1bc7c5fb",
   "metadata": {},
   "outputs": [
    {
     "name": "stdout",
     "output_type": "stream",
     "text": [
      "[[115790.21011287]\n",
      " [ 71498.27809463]\n",
      " [102596.86866063]\n",
      " [ 75267.80422384]\n",
      " [ 55477.79204548]\n",
      " [ 60189.69970699]]\n"
     ]
    }
   ],
   "source": [
    "y_predskl = sc_y.inverse_transform(regressor.predict(X_test))\n",
    "print(y_predskl)"
   ]
  },
  {
   "cell_type": "code",
   "execution_count": 24,
   "id": "dd8bb7dd",
   "metadata": {},
   "outputs": [
    {
     "data": {
      "image/png": "[encoded data removed]",
      "text/plain": [
       "<Figure size 432x288 with 1 Axes>"
      ]
     },
     "metadata": {
      "needs_background": "light"
     },
     "output_type": "display_data"
    }
   ],
   "source": [
    "plt.scatter(sc_X.inverse_transform(X_train), sc_y.inverse_transform(y_train), color = 'blue')\n",
    "plt.plot(sc_X.inverse_transform(X_train), sc_y.inverse_transform(regressor.predict(X_train)), color = 'red')\n",
    "plt.title('Salary Vs Experience (Training Dataset) Using sklearn library')\n",
    "plt.xlabel('Experience')\n",
    "plt.ylabel('Salary')\n",
    "plt.show()"
   ]
  },
  {
   "cell_type": "code",
   "execution_count": 26,
   "id": "f9fe1c51",
   "metadata": {},
   "outputs": [
    {
     "data": {
      "image/png": "[encoded data removed]",
      "text/plain": [
       "<Figure size 432x288 with 1 Axes>"
      ]
     },
     "metadata": {
      "needs_background": "light"
     },
     "output_type": "display_data"
    }
   ],
   "source": [
    "plt.scatter(sc_X.inverse_transform(X_test), sc_y.inverse_transform(y_test), color = 'blue')\n",
    "plt.plot(sc_X.inverse_transform(X_test), y_predskl, color = 'red')\n",
    "plt.title('Salary Vs Experience (Testing Dataset) using sklearn library')\n",
    "plt.xlabel('Experience')\n",
    "plt.ylabel('Salary')\n",
    "plt.show()"
   ]
  },
  {
   "cell_type": "markdown",
   "id": "c52787f3",
   "metadata": {},
   "source": [
    "## Comparing the performance of the models"
   ]
  },
  {
   "cell_type": "code",
   "execution_count": 28,
   "id": "350129ce",
   "metadata": {},
   "outputs": [
    {
     "name": "stdout",
     "output_type": "stream",
     "text": [
      "50186787.511758626\n",
      "49830096.85590834\n"
     ]
    }
   ],
   "source": [
    "from sklearn.metrics import mean_squared_error\n",
    "print(mean_squared_error(sc_y.inverse_transform(y_test), y_pred))      #mean_squared_error of scratch model\n",
    "print(mean_squared_error(sc_y.inverse_transform(y_test), y_predskl))   #mean_squared_error of sklearn model"
   ]
  },
  {
   "cell_type": "code",
   "execution_count": 29,
   "id": "4772e07a",
   "metadata": {},
   "outputs": [
    {
     "name": "stdout",
     "output_type": "stream",
     "text": [
      "0.9017478737992934\n",
      "0.9024461774180498\n"
     ]
    }
   ],
   "source": [
    "from sklearn.metrics import r2_score\n",
    "print(r2_score(sc_y.inverse_transform(y_test), y_pred))        #r2_score of scratch model\n",
    "print(r2_score(sc_y.inverse_transform(y_test), y_predskl))     #r2_score of sklearn model"
   ]
  },
  {
   "cell_type": "code",
   "execution_count": null,
   "id": "61319607",
   "metadata": {},
   "outputs": [],
   "source": []
  }
 ],
 "metadata": {
  "kernelspec": {
   "display_name": "Python 3",
   "language": "python",
   "name": "python3"
  },
  "language_info": {
   "codemirror_mode": {
    "name": "ipython",
    "version": 3
   },
   "file_extension": ".py",
   "mimetype": "text/x-python",
   "name": "python",
   "nbconvert_exporter": "python",
   "pygments_lexer": "ipython3",
   "version": "3.8.10"
  }
 },
 "nbformat": 4,
 "nbformat_minor": 5
}
