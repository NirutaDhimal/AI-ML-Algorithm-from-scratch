{
 "cells": [
  {
   "cell_type": "code",
   "execution_count": 1,
   "id": "b514a073",
   "metadata": {},
   "outputs": [
    {
     "name": "stdout",
     "output_type": "stream",
     "text": [
      "[1, 3, 1, 0, 3, 0, 2, 0, 3, 2, 2, 2, 1, 1, 1, 1, 1, 3, 2, 3, 3, 2, 4, 4, 4, 3, 4, 3, 0, 4, 3, 1, 0, 1, 1, 0, 0, 4, 0, 3]\n",
      "[3, 4, 2, 3, 6, 6, 3, 4, 3, 6, 6, 6, 3, 1, 4, 4, 2, 1, 5, 1, 5, 5, 1, 5, 6, 6, 6, 3, 5, 5, 3, 5, 4, 5, 3, 2, 6, 4, 1, 6]\n"
     ]
    }
   ],
   "source": [
    "import random\n",
    "import numpy as np\n",
    "import pandas as pd\n",
    "\n",
    "x1 = []\n",
    "x2 = []\n",
    "y = []\n",
    "\n",
    "for i in range(40):\n",
    "    x1.append(int(random.random()*5))\n",
    "    x2.append(random.randint(1,6))\n",
    "    \n",
    "    \n",
    "print(x1)\n",
    "print(x2)\n"
   ]
  },
  {
   "cell_type": "code",
   "execution_count": 2,
   "id": "9dc1664d",
   "metadata": {},
   "outputs": [],
   "source": [
    "for i in range(40):\n",
    "    y.append(round(0.1 + x1[i] + 0.2 * x2[i], 2))"
   ]
  },
  {
   "cell_type": "code",
   "execution_count": 3,
   "id": "8e91f109",
   "metadata": {},
   "outputs": [
    {
     "name": "stdout",
     "output_type": "stream",
     "text": [
      "[1.7, 3.9, 1.5, 0.7, 4.3, 1.3, 2.7, 0.9, 3.7, 3.3, 3.3, 3.3, 1.7, 1.3, 1.9, 1.9, 1.5, 3.3, 3.1, 3.3, 4.1, 3.1, 4.3, 5.1, 5.3, 4.3, 5.3, 3.7, 1.1, 5.1, 3.7, 2.1, 0.9, 2.1, 1.7, 0.5, 1.3, 4.9, 0.3, 4.3]\n"
     ]
    }
   ],
   "source": [
    "print(y)"
   ]
  },
  {
   "cell_type": "code",
   "execution_count": 4,
   "id": "e2d3685b",
   "metadata": {},
   "outputs": [],
   "source": [
    "df = pd.DataFrame({'x1': x1, 'x2': x2, 'y': y})\n",
    "df.to_csv('dataset2.csv', index  = False, header = True)\n"
   ]
  },
  {
   "cell_type": "code",
   "execution_count": null,
   "id": "51a81827",
   "metadata": {},
   "outputs": [],
   "source": []
  }
 ],
 "metadata": {
  "kernelspec": {
   "display_name": "Python 3",
   "language": "python",
   "name": "python3"
  },
  "language_info": {
   "codemirror_mode": {
    "name": "ipython",
    "version": 3
   },
   "file_extension": ".py",
   "mimetype": "text/x-python",
   "name": "python",
   "nbconvert_exporter": "python",
   "pygments_lexer": "ipython3",
   "version": "3.8.10"
  }
 },
 "nbformat": 4,
 "nbformat_minor": 5
}
