{
 "cells": [
  {
   "cell_type": "markdown",
   "id": "fb9a2349",
   "metadata": {},
   "source": [
    "## Importing Libraries"
   ]
  },
  {
   "cell_type": "code",
   "execution_count": 1,
   "id": "b51d2b19",
   "metadata": {},
   "outputs": [],
   "source": [
    "import numpy as np\n",
    "import pandas as pd\n",
    "import matplotlib.pyplot as plt"
   ]
  },
  {
   "cell_type": "markdown",
   "id": "7cf874cb",
   "metadata": {},
   "source": [
    "## Loading the dataset"
   ]
  },
  {
   "cell_type": "code",
   "execution_count": 2,
   "id": "4cca101d",
   "metadata": {},
   "outputs": [
    {
     "data": {
      "text/html": [
       "<div>\n",
       "<style scoped>\n",
       "    .dataframe tbody tr th:only-of-type {\n",
       "        vertical-align: middle;\n",
       "    }\n",
       "\n",
       "    .dataframe tbody tr th {\n",
       "        vertical-align: top;\n",
       "    }\n",
       "\n",
       "    .dataframe thead th {\n",
       "        text-align: right;\n",
       "    }\n",
       "</style>\n",
       "<table border=\"1\" class=\"dataframe\">\n",
       "  <thead>\n",
       "    <tr style=\"text-align: right;\">\n",
       "      <th></th>\n",
       "      <th>x1</th>\n",
       "      <th>x2</th>\n",
       "      <th>y</th>\n",
       "    </tr>\n",
       "  </thead>\n",
       "  <tbody>\n",
       "    <tr>\n",
       "      <th>0</th>\n",
       "      <td>1</td>\n",
       "      <td>3</td>\n",
       "      <td>1.7</td>\n",
       "    </tr>\n",
       "    <tr>\n",
       "      <th>1</th>\n",
       "      <td>3</td>\n",
       "      <td>4</td>\n",
       "      <td>3.9</td>\n",
       "    </tr>\n",
       "    <tr>\n",
       "      <th>2</th>\n",
       "      <td>1</td>\n",
       "      <td>2</td>\n",
       "      <td>1.5</td>\n",
       "    </tr>\n",
       "    <tr>\n",
       "      <th>3</th>\n",
       "      <td>0</td>\n",
       "      <td>3</td>\n",
       "      <td>0.7</td>\n",
       "    </tr>\n",
       "    <tr>\n",
       "      <th>4</th>\n",
       "      <td>3</td>\n",
       "      <td>6</td>\n",
       "      <td>4.3</td>\n",
       "    </tr>\n",
       "  </tbody>\n",
       "</table>\n",
       "</div>"
      ],
      "text/plain": [
       "   x1  x2    y\n",
       "0   1   3  1.7\n",
       "1   3   4  3.9\n",
       "2   1   2  1.5\n",
       "3   0   3  0.7\n",
       "4   3   6  4.3"
      ]
     },
     "execution_count": 2,
     "metadata": {},
     "output_type": "execute_result"
    }
   ],
   "source": [
    "dataset = pd.read_csv(\"dataset2.csv\")\n",
    "dataset.head()"
   ]
  },
  {
   "cell_type": "code",
   "execution_count": 3,
   "id": "d794ecd9",
   "metadata": {},
   "outputs": [
    {
     "data": {
      "text/plain": [
       "x1    0\n",
       "x2    0\n",
       "y     0\n",
       "dtype: int64"
      ]
     },
     "execution_count": 3,
     "metadata": {},
     "output_type": "execute_result"
    }
   ],
   "source": [
    "dataset.isnull().sum() #checking null values"
   ]
  },
  {
   "cell_type": "code",
   "execution_count": 4,
   "id": "1b5fc6b8",
   "metadata": {},
   "outputs": [],
   "source": [
    "#Spliting the dataset into x and y\n",
    "X = dataset.iloc[:, :-1].values\n",
    "y = dataset.iloc[:, -1].values"
   ]
  },
  {
   "cell_type": "code",
   "execution_count": 5,
   "id": "ee438a94",
   "metadata": {},
   "outputs": [
    {
     "name": "stdout",
     "output_type": "stream",
     "text": [
      "[[1 3]\n",
      " [3 4]\n",
      " [1 2]\n",
      " [0 3]\n",
      " [3 6]\n",
      " [0 6]\n",
      " [2 3]\n",
      " [0 4]\n",
      " [3 3]\n",
      " [2 6]\n",
      " [2 6]\n",
      " [2 6]\n",
      " [1 3]\n",
      " [1 1]\n",
      " [1 4]\n",
      " [1 4]\n",
      " [1 2]\n",
      " [3 1]\n",
      " [2 5]\n",
      " [3 1]\n",
      " [3 5]\n",
      " [2 5]\n",
      " [4 1]\n",
      " [4 5]\n",
      " [4 6]\n",
      " [3 6]\n",
      " [4 6]\n",
      " [3 3]\n",
      " [0 5]\n",
      " [4 5]\n",
      " [3 3]\n",
      " [1 5]\n",
      " [0 4]\n",
      " [1 5]\n",
      " [1 3]\n",
      " [0 2]\n",
      " [0 6]\n",
      " [4 4]\n",
      " [0 1]\n",
      " [3 6]]\n",
      "[1.7 3.9 1.5 0.7 4.3 1.3 2.7 0.9 3.7 3.3 3.3 3.3 1.7 1.3 1.9 1.9 1.5 3.3\n",
      " 3.1 3.3 4.1 3.1 4.3 5.1 5.3 4.3 5.3 3.7 1.1 5.1 3.7 2.1 0.9 2.1 1.7 0.5\n",
      " 1.3 4.9 0.3 4.3]\n"
     ]
    }
   ],
   "source": [
    "print(X)\n",
    "print(y)"
   ]
  },
  {
   "cell_type": "code",
   "execution_count": 6,
   "id": "d50d1770",
   "metadata": {},
   "outputs": [],
   "source": [
    "y = y.reshape(len(y),1)"
   ]
  },
  {
   "cell_type": "markdown",
   "id": "3844de71",
   "metadata": {},
   "source": [
    "## Data Visualization "
   ]
  },
  {
   "cell_type": "code",
   "execution_count": 7,
   "id": "58de3dcf",
   "metadata": {},
   "outputs": [
    {
     "data": {
      "image/png": "[encoded data removed]",
      "text/plain": [
       "<Figure size 432x288 with 1 Axes>"
      ]
     },
     "metadata": {
      "needs_background": "light"
     },
     "output_type": "display_data"
    }
   ],
   "source": [
    "#Scatter plot between x1 and y\n",
    "plt.scatter(dataset['x1'], y, color = 'blue')\n",
    "plt.title('x1 Vs y')\n",
    "plt.xlabel('x1')\n",
    "plt.ylabel('y')\n",
    "plt.show()"
   ]
  },
  {
   "cell_type": "code",
   "execution_count": 8,
   "id": "a3d938a7",
   "metadata": {},
   "outputs": [
    {
     "data": {
      "image/png": "[encoded data removed]",
      "text/plain": [
       "<Figure size 432x288 with 1 Axes>"
      ]
     },
     "metadata": {
      "needs_background": "light"
     },
     "output_type": "display_data"
    }
   ],
   "source": [
    "plt.scatter(dataset['x2'], y, color = 'blue')\n",
    "plt.title('x2 Vs y')\n",
    "plt.xlabel('x2')\n",
    "plt.ylabel('y')\n",
    "plt.show()"
   ]
  },
  {
   "cell_type": "markdown",
   "id": "c1654175",
   "metadata": {},
   "source": [
    "## Splitting the dataset into training and test dataset"
   ]
  },
  {
   "cell_type": "code",
   "execution_count": 9,
   "id": "7d73de36",
   "metadata": {},
   "outputs": [],
   "source": [
    "from sklearn.model_selection import train_test_split\n",
    "X_train, X_test, y_train, y_test = train_test_split(X, y, test_size =0.2, random_state = 42)"
   ]
  },
  {
   "cell_type": "code",
   "execution_count": 10,
   "id": "b84c7854",
   "metadata": {},
   "outputs": [
    {
     "name": "stdout",
     "output_type": "stream",
     "text": [
      "[[3 6]\n",
      " [2 3]\n",
      " [3 6]\n",
      " [2 6]\n",
      " [1 1]\n",
      " [1 5]\n",
      " [1 3]\n",
      " [3 3]\n",
      " [3 1]\n",
      " [4 6]\n",
      " [1 3]\n",
      " [1 5]\n",
      " [0 6]\n",
      " [2 6]\n",
      " [3 4]\n",
      " [4 5]\n",
      " [2 5]\n",
      " [1 2]\n",
      " [3 3]\n",
      " [0 6]\n",
      " [0 3]\n",
      " [0 2]\n",
      " [4 5]\n",
      " [0 4]\n",
      " [2 6]\n",
      " [4 1]\n",
      " [2 5]\n",
      " [3 5]\n",
      " [0 4]\n",
      " [1 4]\n",
      " [0 5]\n",
      " [0 1]]\n"
     ]
    }
   ],
   "source": [
    "print(X_train)"
   ]
  },
  {
   "cell_type": "code",
   "execution_count": 11,
   "id": "cb2daa3c",
   "metadata": {},
   "outputs": [
    {
     "name": "stdout",
     "output_type": "stream",
     "text": [
      "[[3 1]\n",
      " [1 2]\n",
      " [1 4]\n",
      " [4 6]\n",
      " [3 6]\n",
      " [1 3]\n",
      " [4 4]\n",
      " [3 3]]\n"
     ]
    }
   ],
   "source": [
    "print(X_test)"
   ]
  },
  {
   "cell_type": "code",
   "execution_count": 12,
   "id": "71b70a27",
   "metadata": {},
   "outputs": [
    {
     "name": "stdout",
     "output_type": "stream",
     "text": [
      "[[4.3]\n",
      " [2.7]\n",
      " [4.3]\n",
      " [3.3]\n",
      " [1.3]\n",
      " [2.1]\n",
      " [1.7]\n",
      " [3.7]\n",
      " [3.3]\n",
      " [5.3]\n",
      " [1.7]\n",
      " [2.1]\n",
      " [1.3]\n",
      " [3.3]\n",
      " [3.9]\n",
      " [5.1]\n",
      " [3.1]\n",
      " [1.5]\n",
      " [3.7]\n",
      " [1.3]\n",
      " [0.7]\n",
      " [0.5]\n",
      " [5.1]\n",
      " [0.9]\n",
      " [3.3]\n",
      " [4.3]\n",
      " [3.1]\n",
      " [4.1]\n",
      " [0.9]\n",
      " [1.9]\n",
      " [1.1]\n",
      " [0.3]]\n"
     ]
    }
   ],
   "source": [
    "print(y_train)"
   ]
  },
  {
   "cell_type": "code",
   "execution_count": 13,
   "id": "6bba9227",
   "metadata": {},
   "outputs": [
    {
     "name": "stdout",
     "output_type": "stream",
     "text": [
      "[[3.3]\n",
      " [1.5]\n",
      " [1.9]\n",
      " [5.3]\n",
      " [4.3]\n",
      " [1.7]\n",
      " [4.9]\n",
      " [3.7]]\n"
     ]
    }
   ],
   "source": [
    "print(y_test)"
   ]
  },
  {
   "cell_type": "markdown",
   "id": "6fd24eb9",
   "metadata": {},
   "source": [
    "## Feature Scaling"
   ]
  },
  {
   "cell_type": "code",
   "execution_count": 14,
   "id": "5c4ed850",
   "metadata": {},
   "outputs": [],
   "source": [
    "from sklearn.preprocessing import StandardScaler\n",
    "sc_X = StandardScaler()\n",
    "sc_y = StandardScaler()\n",
    "X_train = sc_X.fit_transform(X_train)\n",
    "y_train = sc_y.fit_transform(y_train)\n",
    "X_test = sc_X.transform(X_test)\n",
    "y_test = sc_y.transform(y_test)"
   ]
  },
  {
   "cell_type": "code",
   "execution_count": 15,
   "id": "e2e9312d",
   "metadata": {},
   "outputs": [
    {
     "name": "stdout",
     "output_type": "stream",
     "text": [
      "[[ 0.91287093  1.15610492]\n",
      " [ 0.18257419 -0.63399302]\n",
      " [ 0.91287093  1.15610492]\n",
      " [ 0.18257419  1.15610492]\n",
      " [-0.54772256 -1.82739164]\n",
      " [-0.54772256  0.55940561]\n",
      " [-0.54772256 -0.63399302]\n",
      " [ 0.91287093 -0.63399302]\n",
      " [ 0.91287093 -1.82739164]\n",
      " [ 1.64316767  1.15610492]\n",
      " [-0.54772256 -0.63399302]\n",
      " [-0.54772256  0.55940561]\n",
      " [-1.2780193   1.15610492]\n",
      " [ 0.18257419  1.15610492]\n",
      " [ 0.91287093 -0.03729371]\n",
      " [ 1.64316767  0.55940561]\n",
      " [ 0.18257419  0.55940561]\n",
      " [-0.54772256 -1.23069233]\n",
      " [ 0.91287093 -0.63399302]\n",
      " [-1.2780193   1.15610492]\n",
      " [-1.2780193  -0.63399302]\n",
      " [-1.2780193  -1.23069233]\n",
      " [ 1.64316767  0.55940561]\n",
      " [-1.2780193  -0.03729371]\n",
      " [ 0.18257419  1.15610492]\n",
      " [ 1.64316767 -1.82739164]\n",
      " [ 0.18257419  0.55940561]\n",
      " [ 0.91287093  0.55940561]\n",
      " [-1.2780193  -0.03729371]\n",
      " [-0.54772256 -0.03729371]\n",
      " [-1.2780193   0.55940561]\n",
      " [-1.2780193  -1.82739164]]\n"
     ]
    }
   ],
   "source": [
    "print(X_train)"
   ]
  },
  {
   "cell_type": "code",
   "execution_count": 16,
   "id": "2b677977",
   "metadata": {},
   "outputs": [
    {
     "name": "stdout",
     "output_type": "stream",
     "text": [
      "[[ 0.91287093 -1.82739164]\n",
      " [-0.54772256 -1.23069233]\n",
      " [-0.54772256 -0.03729371]\n",
      " [ 1.64316767  1.15610492]\n",
      " [ 0.91287093  1.15610492]\n",
      " [-0.54772256 -0.63399302]\n",
      " [ 1.64316767 -0.03729371]\n",
      " [ 0.91287093 -0.63399302]]\n"
     ]
    }
   ],
   "source": [
    "print(X_test)"
   ]
  },
  {
   "cell_type": "code",
   "execution_count": 17,
   "id": "ebe75b80",
   "metadata": {},
   "outputs": [
    {
     "name": "stdout",
     "output_type": "stream",
     "text": [
      "[[ 1.12834643]\n",
      " [ 0.02583999]\n",
      " [ 1.12834643]\n",
      " [ 0.43927991]\n",
      " [-0.93885314]\n",
      " [-0.38759992]\n",
      " [-0.66322653]\n",
      " [ 0.71490652]\n",
      " [ 0.43927991]\n",
      " [ 1.81741295]\n",
      " [-0.66322653]\n",
      " [-0.38759992]\n",
      " [-0.93885314]\n",
      " [ 0.43927991]\n",
      " [ 0.85271982]\n",
      " [ 1.67959965]\n",
      " [ 0.3014666 ]\n",
      " [-0.80103983]\n",
      " [ 0.71490652]\n",
      " [-0.93885314]\n",
      " [-1.35229305]\n",
      " [-1.49010635]\n",
      " [ 1.67959965]\n",
      " [-1.21447974]\n",
      " [ 0.43927991]\n",
      " [ 1.12834643]\n",
      " [ 0.3014666 ]\n",
      " [ 0.99053313]\n",
      " [-1.21447974]\n",
      " [-0.52541322]\n",
      " [-1.07666644]\n",
      " [-1.62791966]]\n"
     ]
    }
   ],
   "source": [
    "print(y_train)"
   ]
  },
  {
   "cell_type": "code",
   "execution_count": 18,
   "id": "ea26c919",
   "metadata": {},
   "outputs": [
    {
     "name": "stdout",
     "output_type": "stream",
     "text": [
      "[[ 0.43927991]\n",
      " [-0.80103983]\n",
      " [-0.52541322]\n",
      " [ 1.81741295]\n",
      " [ 1.12834643]\n",
      " [-0.66322653]\n",
      " [ 1.54178634]\n",
      " [ 0.71490652]]\n"
     ]
    }
   ],
   "source": [
    "print(y_test)"
   ]
  },
  {
   "cell_type": "markdown",
   "id": "d74360e5",
   "metadata": {},
   "source": [
    "## Implementing multiple linear regression using sklearn"
   ]
  },
  {
   "cell_type": "code",
   "execution_count": 19,
   "id": "6d91df09",
   "metadata": {},
   "outputs": [
    {
     "data": {
      "text/plain": [
       "LinearRegression()"
      ]
     },
     "execution_count": 19,
     "metadata": {},
     "output_type": "execute_result"
    }
   ],
   "source": [
    "from sklearn.linear_model import LinearRegression\n",
    "sklregressor = LinearRegression()   #regression built using sklearn\n",
    "sklregressor.fit(X_train, y_train)"
   ]
  },
  {
   "cell_type": "code",
   "execution_count": 20,
   "id": "79be0b1f",
   "metadata": {},
   "outputs": [],
   "source": [
    "y_predskl = sc_y.inverse_transform(sklregressor.predict(X_test))"
   ]
  },
  {
   "cell_type": "code",
   "execution_count": 21,
   "id": "6949c18f",
   "metadata": {},
   "outputs": [
    {
     "name": "stdout",
     "output_type": "stream",
     "text": [
      "[[3.3 3.3]\n",
      " [1.5 1.5]\n",
      " [1.9 1.9]\n",
      " [5.3 5.3]\n",
      " [4.3 4.3]\n",
      " [1.7 1.7]\n",
      " [4.9 4.9]\n",
      " [3.7 3.7]]\n"
     ]
    }
   ],
   "source": [
    "np.set_printoptions(precision = 2)\n",
    "print(np.concatenate((y_predskl.reshape(len(y_predskl),1), (sc_y.inverse_transform(y_test)).reshape(len(y_test),1)), 1))"
   ]
  },
  {
   "cell_type": "code",
   "execution_count": 22,
   "id": "2150ab60",
   "metadata": {},
   "outputs": [
    {
     "name": "stdout",
     "output_type": "stream",
     "text": [
      "3.512896218562318e-31\n"
     ]
    }
   ],
   "source": [
    "from sklearn.metrics import mean_squared_error, r2_score\n",
    "print(mean_squared_error(sc_y.inverse_transform(y_test), y_predskl))"
   ]
  },
  {
   "cell_type": "code",
   "execution_count": 23,
   "id": "f35e52c4",
   "metadata": {},
   "outputs": [
    {
     "data": {
      "text/plain": [
       "array([[0.94, 0.23]])"
      ]
     },
     "execution_count": 23,
     "metadata": {},
     "output_type": "execute_result"
    }
   ],
   "source": [
    "sklregressor.coef_"
   ]
  },
  {
   "cell_type": "code",
   "execution_count": 24,
   "id": "ca2db067",
   "metadata": {},
   "outputs": [
    {
     "data": {
      "text/plain": [
       "array([-1.93e-16])"
      ]
     },
     "execution_count": 24,
     "metadata": {},
     "output_type": "execute_result"
    }
   ],
   "source": [
    "sklregressor.intercept_"
   ]
  },
  {
   "cell_type": "markdown",
   "id": "fbb1746e",
   "metadata": {},
   "source": [
    "## Implementing multiple linear regression from scratch using gradient descent"
   ]
  },
  {
   "cell_type": "code",
   "execution_count": 25,
   "id": "cc22ee64",
   "metadata": {},
   "outputs": [
    {
     "name": "stdout",
     "output_type": "stream",
     "text": [
      "-1.1099621222135026e-16 1.2143064331520908e-20 2.2377932839296802e-21\n"
     ]
    }
   ],
   "source": [
    "#Initializing b = 2, a1=3, a2 = 5 where cost function = 1/n * summation from i = 0 to n (y - y_pred)^2  and y_pred = b + a1*x1 + a2*x2\n",
    "b = 0\n",
    "a1 = 0\n",
    "a2 = 0\n",
    "\n",
    "n = len(X_train)\n",
    "\n",
    "#Initializing learning rate (L) and epochs(iterations) and update it through hit and trial\n",
    "L = 0.00001\n",
    "epochs = 150000\n",
    "\n",
    "for i in range(epochs):\n",
    "    y_predt = a1 * X_train[:, 0] + a2 * X_train[:, 1] + b      #The current predicted value of y \n",
    "    db = - 2/n * sum(sum(y_train - y_predt))                       # partial derivative of cost function w.r.t b\n",
    "    da1 = -2/n * sum(sum( X_train[:, 0] * (y_train - y_predt)))     #partial derivative of cost function w.r.t a1\n",
    "    da2 = -2/n * sum(sum(X_train[:, 1] * (y_train - y_predt)))      #partial derivative of cost function w.r.t a2\n",
    "    b = b - L * db                                              #update b\n",
    "    a1 = a1 - L * da1                                           #update a1\n",
    "    a2 = a2 - L * da2                                           # update a2\n",
    "    \n",
    "    \n",
    "print(b, a1, a2)"
   ]
  },
  {
   "cell_type": "code",
   "execution_count": 26,
   "id": "215e96a6",
   "metadata": {},
   "outputs": [],
   "source": [
    "y_predtrain =  sc_y.inverse_transform( b + a1 * X_train[:,0]+ a2 * X_train[:, 1])"
   ]
  },
  {
   "cell_type": "code",
   "execution_count": 27,
   "id": "d44d3c4f",
   "metadata": {},
   "outputs": [
    {
     "name": "stdout",
     "output_type": "stream",
     "text": [
      "2.10609375\n"
     ]
    }
   ],
   "source": [
    "print(mean_squared_error(sc_y.inverse_transform(y_train), y_predtrain))"
   ]
  },
  {
   "cell_type": "code",
   "execution_count": 30,
   "id": "2d103018",
   "metadata": {},
   "outputs": [],
   "source": [
    "y_pred =  sc_y.inverse_transform(b + a1 * X_test[:, 0] + a2 * X_test[:, 1])"
   ]
  },
  {
   "cell_type": "code",
   "execution_count": 32,
   "id": "9a1ded5b",
   "metadata": {},
   "outputs": [
    {
     "name": "stdout",
     "output_type": "stream",
     "text": [
      "2.37328125\n"
     ]
    }
   ],
   "source": [
    "from sklearn.metrics import mean_squared_error, r2_score\n",
    "print(mean_squared_error(sc_y.inverse_transform(y_test), y_pred))"
   ]
  },
  {
   "cell_type": "code",
   "execution_count": null,
   "id": "95d8554b",
   "metadata": {},
   "outputs": [],
   "source": []
  }
 ],
 "metadata": {
  "kernelspec": {
   "display_name": "Python 3",
   "language": "python",
   "name": "python3"
  },
  "language_info": {
   "codemirror_mode": {
    "name": "ipython",
    "version": 3
   },
   "file_extension": ".py",
   "mimetype": "text/x-python",
   "name": "python",
   "nbconvert_exporter": "python",
   "pygments_lexer": "ipython3",
   "version": "3.8.10"
  }
 },
 "nbformat": 4,
 "nbformat_minor": 5
}
